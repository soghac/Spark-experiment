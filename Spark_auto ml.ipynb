{
 "cells": [
  {
   "cell_type": "code",
   "execution_count": 1,
   "id": "dcc07763",
   "metadata": {},
   "outputs": [],
   "source": [
    "import h2o"
   ]
  },
  {
   "cell_type": "code",
   "execution_count": 2,
   "id": "15b459be",
   "metadata": {},
   "outputs": [
    {
     "name": "stdout",
     "output_type": "stream",
     "text": [
      "Checking whether there is an H2O instance running at http://localhost:54321 ..... not found.\n",
      "Attempting to start a local H2O server...\n",
      "; Java HotSpot(TM) 64-Bit Server VM (build 15.0.1+9-18, mixed mode, sharing)\n",
      "  Starting server from C:\\ProgramData\\Anaconda3\\Lib\\site-packages\\h2o\\backend\\bin\\h2o.jar\n",
      "  Ice root: C:\\Users\\RECHER~1\\AppData\\Local\\Temp\\tmplea4t3rc\n",
      "  JVM stdout: C:\\Users\\RECHER~1\\AppData\\Local\\Temp\\tmplea4t3rc\\h2o_Recherche_started_from_python.out\n",
      "  JVM stderr: C:\\Users\\RECHER~1\\AppData\\Local\\Temp\\tmplea4t3rc\\h2o_Recherche_started_from_python.err\n",
      "  Server is running at http://127.0.0.1:54321\n",
      "Connecting to H2O server at http://127.0.0.1:54321 ... successful.\n",
      "Warning: Your H2O cluster version is too old (4 months)!Please download and install the latest version from http://h2o.ai/download/\n"
     ]
    },
    {
     "data": {
      "text/html": [
       "<div style=\"overflow:auto\"><table style=\"width:50%\"><tr><td>H2O_cluster_uptime:</td>\n",
       "<td>03 secs</td></tr>\n",
       "<tr><td>H2O_cluster_timezone:</td>\n",
       "<td>America/Toronto</td></tr>\n",
       "<tr><td>H2O_data_parsing_timezone:</td>\n",
       "<td>UTC</td></tr>\n",
       "<tr><td>H2O_cluster_version:</td>\n",
       "<td>3.36.0.3</td></tr>\n",
       "<tr><td>H2O_cluster_version_age:</td>\n",
       "<td>4 months !!!</td></tr>\n",
       "<tr><td>H2O_cluster_name:</td>\n",
       "<td>H2O_from_python_Recherche_uv3xeg</td></tr>\n",
       "<tr><td>H2O_cluster_total_nodes:</td>\n",
       "<td>1</td></tr>\n",
       "<tr><td>H2O_cluster_free_memory:</td>\n",
       "<td>1.973 Gb</td></tr>\n",
       "<tr><td>H2O_cluster_total_cores:</td>\n",
       "<td>0</td></tr>\n",
       "<tr><td>H2O_cluster_allowed_cores:</td>\n",
       "<td>0</td></tr>\n",
       "<tr><td>H2O_cluster_status:</td>\n",
       "<td>locked, healthy</td></tr>\n",
       "<tr><td>H2O_connection_url:</td>\n",
       "<td>http://127.0.0.1:54321</td></tr>\n",
       "<tr><td>H2O_connection_proxy:</td>\n",
       "<td>{\"http\": null, \"https\": null}</td></tr>\n",
       "<tr><td>H2O_internal_security:</td>\n",
       "<td>False</td></tr>\n",
       "<tr><td>Python_version:</td>\n",
       "<td>3.8.8 final</td></tr></table></div>"
      ],
      "text/plain": [
       "--------------------------  --------------------------------\n",
       "H2O_cluster_uptime:         03 secs\n",
       "H2O_cluster_timezone:       America/Toronto\n",
       "H2O_data_parsing_timezone:  UTC\n",
       "H2O_cluster_version:        3.36.0.3\n",
       "H2O_cluster_version_age:    4 months !!!\n",
       "H2O_cluster_name:           H2O_from_python_Recherche_uv3xeg\n",
       "H2O_cluster_total_nodes:    1\n",
       "H2O_cluster_free_memory:    1.973 Gb\n",
       "H2O_cluster_total_cores:    0\n",
       "H2O_cluster_allowed_cores:  0\n",
       "H2O_cluster_status:         locked, healthy\n",
       "H2O_connection_url:         http://127.0.0.1:54321\n",
       "H2O_connection_proxy:       {\"http\": null, \"https\": null}\n",
       "H2O_internal_security:      False\n",
       "Python_version:             3.8.8 final\n",
       "--------------------------  --------------------------------"
      ]
     },
     "metadata": {},
     "output_type": "display_data"
    }
   ],
   "source": [
    "h2o.init()"
   ]
  },
  {
   "cell_type": "code",
   "execution_count": 3,
   "id": "9b2b2a79",
   "metadata": {},
   "outputs": [],
   "source": [
    "from h2o.automl import H2OAutoML"
   ]
  },
  {
   "cell_type": "code",
   "execution_count": 4,
   "id": "1a4c6325",
   "metadata": {},
   "outputs": [
    {
     "name": "stdout",
     "output_type": "stream",
     "text": [
      "Parse progress: |████████████████████████████████████████████████████████████████| (done) 100%\n"
     ]
    }
   ],
   "source": [
    "dataset=h2o.upload_file(\"C:\\\\Users\\\\Recherche\\\\Desktop\\\\Average.csv\")"
   ]
  },
  {
   "cell_type": "code",
   "execution_count": 5,
   "id": "db9ea7d9",
   "metadata": {},
   "outputs": [
    {
     "data": {
      "text/plain": [
       "{'user_count': 'int',\n",
       " 'size of data': 'enum',\n",
       " 'time': 'time',\n",
       " 'cpu_percent_1 worker per core': 'real'}"
      ]
     },
     "execution_count": 5,
     "metadata": {},
     "output_type": "execute_result"
    }
   ],
   "source": [
    "dataset.types"
   ]
  },
  {
   "cell_type": "code",
   "execution_count": 6,
   "id": "2370d21e",
   "metadata": {},
   "outputs": [],
   "source": [
    "dataset_train,dataset_test,dataset_valid = dataset.split_frame(ratios=[.7, .15])"
   ]
  },
  {
   "cell_type": "code",
   "execution_count": 7,
   "id": "106ab58c",
   "metadata": {},
   "outputs": [
    {
     "data": {
      "text/html": [
       "<table>\n",
       "<thead>\n",
       "<tr><th style=\"text-align: right;\">  user_count</th><th>size of data  </th><th>time               </th><th style=\"text-align: right;\">  cpu_percent_1 worker per core</th></tr>\n",
       "</thead>\n",
       "<tbody>\n",
       "<tr><td style=\"text-align: right;\">           5</td><td>147 MB        </td><td>1970-01-01 08:16:01</td><td style=\"text-align: right;\">                         99.225</td></tr>\n",
       "<tr><td style=\"text-align: right;\">           5</td><td>147 MB        </td><td>1970-01-01 08:16:53</td><td style=\"text-align: right;\">                         99.175</td></tr>\n",
       "<tr><td style=\"text-align: right;\">           5</td><td>147 MB        </td><td>1970-01-01 08:17:06</td><td style=\"text-align: right;\">                        100.195</td></tr>\n",
       "<tr><td style=\"text-align: right;\">           5</td><td>147 MB        </td><td>1970-01-01 08:17:19</td><td style=\"text-align: right;\">                        101.335</td></tr>\n",
       "<tr><td style=\"text-align: right;\">           5</td><td>147 MB        </td><td>1970-01-01 08:17:32</td><td style=\"text-align: right;\">                         99.175</td></tr>\n",
       "<tr><td style=\"text-align: right;\">           5</td><td>147 MB        </td><td>1970-01-01 08:17:45</td><td style=\"text-align: right;\">                        119.05 </td></tr>\n",
       "<tr><td style=\"text-align: right;\">           5</td><td>147 MB        </td><td>1970-01-01 08:18:11</td><td style=\"text-align: right;\">                         98.65 </td></tr>\n",
       "<tr><td style=\"text-align: right;\">           5</td><td>147 MB        </td><td>1970-01-01 08:18:37</td><td style=\"text-align: right;\">                         98.965</td></tr>\n",
       "<tr><td style=\"text-align: right;\">           5</td><td>147 MB        </td><td>1970-01-01 08:18:50</td><td style=\"text-align: right;\">                         96.315</td></tr>\n",
       "<tr><td style=\"text-align: right;\">           5</td><td>147 MB        </td><td>1970-01-01 08:19:03</td><td style=\"text-align: right;\">                         96.595</td></tr>\n",
       "</tbody>\n",
       "</table>"
      ]
     },
     "metadata": {},
     "output_type": "display_data"
    },
    {
     "data": {
      "text/plain": []
     },
     "execution_count": 7,
     "metadata": {},
     "output_type": "execute_result"
    }
   ],
   "source": [
    "dataset_train"
   ]
  },
  {
   "cell_type": "code",
   "execution_count": 8,
   "id": "0f897db1",
   "metadata": {},
   "outputs": [],
   "source": [
    "y = \"cpu_percent_1 worker per core\"\n",
    "x = dataset.columns\n",
    "x.remove(y)\n"
   ]
  },
  {
   "cell_type": "code",
   "execution_count": 9,
   "id": "52b12269",
   "metadata": {},
   "outputs": [],
   "source": [
    "aml = H2OAutoML(max_models = 10, seed = 10,  verbosity=\"info\", nfolds=0)"
   ]
  },
  {
   "cell_type": "code",
   "execution_count": 10,
   "id": "07258830",
   "metadata": {},
   "outputs": [
    {
     "name": "stderr",
     "output_type": "stream",
     "text": [
      "'nvidia-smi' is not recognized as an internal or external command,\n",
      "operable program or batch file.\n"
     ]
    }
   ],
   "source": [
    "!nvidia-smi"
   ]
  },
  {
   "cell_type": "code",
   "execution_count": 11,
   "id": "a777e54c",
   "metadata": {},
   "outputs": [
    {
     "name": "stdout",
     "output_type": "stream",
     "text": [
      "AutoML progress: |\n",
      "18:01:40.502: Project: AutoML_1_20220616_180140\n",
      "18:01:40.504: Cross-validation disabled by user: no fold column nor nfolds > 1.\n",
      "18:01:40.509: Setting stopping tolerance adaptively based on the training frame: 0.05\n",
      "18:01:40.509: Build control seed: 10\n",
      "18:01:40.510: training frame: Frame key: AutoML_1_20220616_180140_training_py_2_sid_8a0b    cols: 4    rows: 250  chunks: 1    size: 2562  checksum: 6484719972076193981\n",
      "18:01:40.510: validation frame: Frame key: py_4_sid_8a0b    cols: 4    rows: 60  chunks: 1    size: 1232  checksum: 690333664012380548\n",
      "18:01:40.510: leaderboard frame: Frame key: py_4_sid_8a0b    cols: 4    rows: 60  chunks: 1    size: 1232  checksum: 690333664012380548\n",
      "18:01:40.510: blending frame: NULL\n",
      "18:01:40.510: response column: cpu_percent_1 worker per core\n",
      "18:01:40.510: fold column: null\n",
      "18:01:40.510: weights column: null\n",
      "18:01:40.520: AutoML: XGBoost is not available; skipping it.\n",
      "18:01:40.521: Loading execution steps: [{XGBoost : [def_2 (1g, 10w), def_1 (2g, 10w), def_3 (3g, 10w), grid_1 (4g, 90w), lr_search (6g, 30w)]}, {GLM : [def_1 (1g, 10w)]}, {DRF : [def_1 (2g, 10w), XRT (3g, 10w)]}, {GBM : [def_5 (1g, 10w), def_2 (2g, 10w), def_3 (2g, 10w), def_4 (2g, 10w), def_1 (3g, 10w), grid_1 (4g, 60w), lr_annealing (6g, 10w)]}, {DeepLearning : [def_1 (3g, 10w), grid_1 (4g, 30w), grid_2 (5g, 30w), grid_3 (5g, 30w)]}, {completion : [resume_best_grids (10g, 60w)]}, {StackedEnsemble : [best_of_family_1 (1g, 5w), best_of_family_2 (2g, 5w), best_of_family_3 (3g, 5w), best_of_family_4 (4g, 5w), best_of_family_5 (5g, 5w), all_2 (2g, 10w), all_3 (3g, 10w), all_4 (4g, 10w), all_5 (5g, 10w), monotonic (6g, 10w), best_of_family_xgboost (6g, 10w), best_of_family_gbm (6g, 10w), all_xgboost (7g, 10w), all_gbm (7g, 10w), best_of_family_xglm (8g, 10w), all_xglm (8g, 10w), best_of_family (10g, 10w), best_N (10g, 10w)]}]\n",
      "18:01:40.580: Step 'best_of_family_xgboost' not defined in provider 'StackedEnsemble': skipping it.\n",
      "18:01:40.580: Step 'all_xgboost' not defined in provider 'StackedEnsemble': skipping it.\n",
      "18:01:40.582: Disabling Algo: XGBoost as requested by the user.\n",
      "18:01:40.583: AutoML job created: 2022.06.16 18:01:40.363\n",
      "18:01:40.585: AutoML build started: 2022.06.16 18:01:40.584\n",
      "18:01:40.591: AutoML: starting GLM_1_AutoML_1_20220616_180140 model training\n",
      "18:01:40.597: _train param, Dropping bad and constant columns: [size of data]\n",
      "\n",
      "\n",
      "18:01:41.655: New leader: GLM_1_AutoML_1_20220616_180140, mean_residual_deviance: 174.98245177627987\n",
      "18:01:41.662: AutoML: starting GBM_1_AutoML_1_20220616_180140 model training\n",
      "18:01:41.664: _train param, Dropping bad and constant columns: [size of data]\n",
      "\n",
      "█\n",
      "18:01:42.675: Cross-validation is disabled by the user and no blending frame was provided; skipping StackedEnsemble 'best_of_family_1'.\n",
      "18:01:42.676: AutoML: starting DRF_1_AutoML_1_20220616_180140 model training\n",
      "18:01:42.676: _train param, Dropping bad and constant columns: [size of data]\n",
      "\n",
      "█\n",
      "18:01:43.686: New leader: DRF_1_AutoML_1_20220616_180140, mean_residual_deviance: 51.372089051630496\n",
      "18:01:43.687: AutoML: starting GBM_2_AutoML_1_20220616_180140 model training\n",
      "18:01:43.688: _train param, Dropping bad and constant columns: [size of data]\n",
      "\n",
      "██\n",
      "18:01:44.705: AutoML: starting GBM_3_AutoML_1_20220616_180140 model training\n",
      "18:01:44.705: _train param, Dropping bad and constant columns: [size of data]\n",
      "18:01:45.717: AutoML: starting GBM_4_AutoML_1_20220616_180140 model training\n",
      "18:01:45.718: _train param, Dropping bad and constant columns: [size of data]\n",
      "\n",
      "███\n",
      "18:01:46.727: Cross-validation is disabled by the user and no blending frame was provided; skipping StackedEnsemble 'best_of_family_2'.\n",
      "18:01:46.728: Cross-validation is disabled by the user and no blending frame was provided; skipping StackedEnsemble 'all_2'.\n",
      "18:01:46.728: AutoML: starting XRT_1_AutoML_1_20220616_180140 model training\n",
      "18:01:46.729: _train param, Dropping bad and constant columns: [size of data]\n",
      "\n",
      "██\n",
      "18:01:47.743: New leader: XRT_1_AutoML_1_20220616_180140, mean_residual_deviance: 31.6885275887891\n",
      "18:01:47.743: AutoML: starting GBM_5_AutoML_1_20220616_180140 model training\n",
      "18:01:47.744: _train param, Dropping bad and constant columns: [size of data]\n",
      "18:01:48.759: New leader: GBM_5_AutoML_1_20220616_180140, mean_residual_deviance: 31.48298319425505\n",
      "18:01:48.762: AutoML: starting DeepLearning_1_AutoML_1_20220616_180140 model training\n",
      "18:01:48.762: _train param, Dropping bad and constant columns: [size of data]\n",
      "\n",
      "███\n",
      "18:01:49.775: Cross-validation is disabled by the user and no blending frame was provided; skipping StackedEnsemble 'best_of_family_3'.\n",
      "18:01:49.775: Cross-validation is disabled by the user and no blending frame was provided; skipping StackedEnsemble 'all_3'.\n",
      "18:01:49.778: AutoML: starting GBM_grid_1_AutoML_1_20220616_180140 hyperparameter search\n",
      "\n",
      "███████████████████████████████████████████████████| (done) 100%\n",
      "\n",
      "18:01:50.801: Cross-validation is disabled by the user and no blending frame was provided; skipping StackedEnsemble 'best_of_family_4'.\n",
      "18:01:50.802: Cross-validation is disabled by the user and no blending frame was provided; skipping StackedEnsemble 'all_4'.\n",
      "18:01:50.802: Cross-validation is disabled by the user and no blending frame was provided; skipping StackedEnsemble 'best_of_family_5'.\n",
      "18:01:50.803: Cross-validation is disabled by the user and no blending frame was provided; skipping StackedEnsemble 'all_5'.\n",
      "18:01:50.805: No base models, due to timeouts or the exclude_algos option. Skipping StackedEnsemble 'monotonic'.\n",
      "18:01:50.805: Cross-validation is disabled by the user and no blending frame was provided; skipping StackedEnsemble 'best_of_family_gbm'.\n",
      "18:01:50.806: Cross-validation is disabled by the user and no blending frame was provided; skipping StackedEnsemble 'all_gbm'.\n",
      "18:01:50.806: Cross-validation is disabled by the user and no blending frame was provided; skipping StackedEnsemble 'best_of_family_xglm'.\n",
      "18:01:50.806: Cross-validation is disabled by the user and no blending frame was provided; skipping StackedEnsemble 'all_xglm'.\n",
      "18:01:50.807: Cross-validation is disabled by the user and no blending frame was provided; skipping StackedEnsemble 'best_of_family'.\n",
      "18:01:50.810: Cross-validation is disabled by the user and no blending frame was provided; skipping StackedEnsemble 'best_N'.\n",
      "18:01:50.810: Actual modeling steps: [{GLM : [def_1 (1g, 10w)]}, {GBM : [def_5 (1g, 10w)]}, {DRF : [def_1 (2g, 10w)]}, {GBM : [def_2 (2g, 10w), def_3 (2g, 10w), def_4 (2g, 10w)]}, {DRF : [XRT (3g, 10w)]}, {GBM : [def_1 (3g, 10w)]}, {DeepLearning : [def_1 (3g, 10w)]}, {GBM : [grid_1 (4g, 60w)]}]\n",
      "18:01:50.810: AutoML build stopped: 2022.06.16 18:01:50.810\n",
      "18:01:50.810: AutoML build done: built 10 models\n",
      "18:01:50.810: AutoML duration: 10.226 sec\n",
      "\n",
      "Model Details\n",
      "=============\n",
      "H2OGradientBoostingEstimator :  Gradient Boosting Machine\n",
      "Model Key:  GBM_5_AutoML_1_20220616_180140\n",
      "\n",
      "\n",
      "Model Summary: \n"
     ]
    },
    {
     "data": {
      "text/html": [
       "<div>\n",
       "<style scoped>\n",
       "    .dataframe tbody tr th:only-of-type {\n",
       "        vertical-align: middle;\n",
       "    }\n",
       "\n",
       "    .dataframe tbody tr th {\n",
       "        vertical-align: top;\n",
       "    }\n",
       "\n",
       "    .dataframe thead th {\n",
       "        text-align: right;\n",
       "    }\n",
       "</style>\n",
       "<table border=\"1\" class=\"dataframe\">\n",
       "  <thead>\n",
       "    <tr style=\"text-align: right;\">\n",
       "      <th></th>\n",
       "      <th></th>\n",
       "      <th>number_of_trees</th>\n",
       "      <th>number_of_internal_trees</th>\n",
       "      <th>model_size_in_bytes</th>\n",
       "      <th>min_depth</th>\n",
       "      <th>max_depth</th>\n",
       "      <th>mean_depth</th>\n",
       "      <th>min_leaves</th>\n",
       "      <th>max_leaves</th>\n",
       "      <th>mean_leaves</th>\n",
       "    </tr>\n",
       "  </thead>\n",
       "  <tbody>\n",
       "    <tr>\n",
       "      <th>0</th>\n",
       "      <td></td>\n",
       "      <td>50.0</td>\n",
       "      <td>50.0</td>\n",
       "      <td>12162.0</td>\n",
       "      <td>1.0</td>\n",
       "      <td>6.0</td>\n",
       "      <td>4.58</td>\n",
       "      <td>2.0</td>\n",
       "      <td>27.0</td>\n",
       "      <td>14.7</td>\n",
       "    </tr>\n",
       "  </tbody>\n",
       "</table>\n",
       "</div>"
      ],
      "text/plain": [
       "     number_of_trees  number_of_internal_trees  model_size_in_bytes  \\\n",
       "0               50.0                      50.0              12162.0   \n",
       "\n",
       "   min_depth  max_depth  mean_depth  min_leaves  max_leaves  mean_leaves  \n",
       "0        1.0        6.0        4.58         2.0        27.0         14.7  "
      ]
     },
     "metadata": {},
     "output_type": "display_data"
    },
    {
     "name": "stdout",
     "output_type": "stream",
     "text": [
      "\n",
      "\n",
      "ModelMetricsRegression: gbm\n",
      "** Reported on train data. **\n",
      "\n",
      "MSE: 5.52780967260171\n",
      "RMSE: 2.35112944616023\n",
      "MAE: 1.8759217661619187\n",
      "RMSLE: 0.15170658424351927\n",
      "Mean Residual Deviance: 5.52780967260171\n",
      "\n",
      "ModelMetricsRegression: gbm\n",
      "** Reported on validation data. **\n",
      "\n",
      "MSE: 31.48298319425505\n",
      "RMSE: 5.610969897821146\n",
      "MAE: 3.476691029652278\n",
      "RMSLE: 0.16409244995862485\n",
      "Mean Residual Deviance: 31.48298319425505\n",
      "\n",
      "Scoring History: \n"
     ]
    },
    {
     "data": {
      "text/html": [
       "<div>\n",
       "<style scoped>\n",
       "    .dataframe tbody tr th:only-of-type {\n",
       "        vertical-align: middle;\n",
       "    }\n",
       "\n",
       "    .dataframe tbody tr th {\n",
       "        vertical-align: top;\n",
       "    }\n",
       "\n",
       "    .dataframe thead th {\n",
       "        text-align: right;\n",
       "    }\n",
       "</style>\n",
       "<table border=\"1\" class=\"dataframe\">\n",
       "  <thead>\n",
       "    <tr style=\"text-align: right;\">\n",
       "      <th></th>\n",
       "      <th></th>\n",
       "      <th>timestamp</th>\n",
       "      <th>duration</th>\n",
       "      <th>number_of_trees</th>\n",
       "      <th>training_rmse</th>\n",
       "      <th>training_mae</th>\n",
       "      <th>training_deviance</th>\n",
       "      <th>validation_rmse</th>\n",
       "      <th>validation_mae</th>\n",
       "      <th>validation_deviance</th>\n",
       "    </tr>\n",
       "  </thead>\n",
       "  <tbody>\n",
       "    <tr>\n",
       "      <th>0</th>\n",
       "      <td></td>\n",
       "      <td>2022-06-16 18:01:47</td>\n",
       "      <td>0.001 sec</td>\n",
       "      <td>0.0</td>\n",
       "      <td>12.861098</td>\n",
       "      <td>4.456193</td>\n",
       "      <td>165.407841</td>\n",
       "      <td>13.473543</td>\n",
       "      <td>5.027507</td>\n",
       "      <td>181.536355</td>\n",
       "    </tr>\n",
       "    <tr>\n",
       "      <th>1</th>\n",
       "      <td></td>\n",
       "      <td>2022-06-16 18:01:47</td>\n",
       "      <td>0.040 sec</td>\n",
       "      <td>5.0</td>\n",
       "      <td>10.483603</td>\n",
       "      <td>3.989578</td>\n",
       "      <td>109.905924</td>\n",
       "      <td>11.245572</td>\n",
       "      <td>4.606858</td>\n",
       "      <td>126.462889</td>\n",
       "    </tr>\n",
       "    <tr>\n",
       "      <th>2</th>\n",
       "      <td></td>\n",
       "      <td>2022-06-16 18:01:47</td>\n",
       "      <td>0.071 sec</td>\n",
       "      <td>10.0</td>\n",
       "      <td>6.651597</td>\n",
       "      <td>3.183198</td>\n",
       "      <td>44.243736</td>\n",
       "      <td>7.875760</td>\n",
       "      <td>4.010445</td>\n",
       "      <td>62.027590</td>\n",
       "    </tr>\n",
       "    <tr>\n",
       "      <th>3</th>\n",
       "      <td></td>\n",
       "      <td>2022-06-16 18:01:47</td>\n",
       "      <td>0.081 sec</td>\n",
       "      <td>15.0</td>\n",
       "      <td>5.629196</td>\n",
       "      <td>2.966036</td>\n",
       "      <td>31.687848</td>\n",
       "      <td>7.103944</td>\n",
       "      <td>3.852135</td>\n",
       "      <td>50.466021</td>\n",
       "    </tr>\n",
       "    <tr>\n",
       "      <th>4</th>\n",
       "      <td></td>\n",
       "      <td>2022-06-16 18:01:47</td>\n",
       "      <td>0.092 sec</td>\n",
       "      <td>20.0</td>\n",
       "      <td>4.526209</td>\n",
       "      <td>2.714230</td>\n",
       "      <td>20.486571</td>\n",
       "      <td>6.392194</td>\n",
       "      <td>3.718066</td>\n",
       "      <td>40.860145</td>\n",
       "    </tr>\n",
       "    <tr>\n",
       "      <th>5</th>\n",
       "      <td></td>\n",
       "      <td>2022-06-16 18:01:47</td>\n",
       "      <td>0.105 sec</td>\n",
       "      <td>25.0</td>\n",
       "      <td>3.399759</td>\n",
       "      <td>2.366124</td>\n",
       "      <td>11.558360</td>\n",
       "      <td>5.860944</td>\n",
       "      <td>3.616747</td>\n",
       "      <td>34.350665</td>\n",
       "    </tr>\n",
       "    <tr>\n",
       "      <th>6</th>\n",
       "      <td></td>\n",
       "      <td>2022-06-16 18:01:47</td>\n",
       "      <td>0.113 sec</td>\n",
       "      <td>30.0</td>\n",
       "      <td>3.256122</td>\n",
       "      <td>2.320106</td>\n",
       "      <td>10.602333</td>\n",
       "      <td>5.763897</td>\n",
       "      <td>3.560829</td>\n",
       "      <td>33.222503</td>\n",
       "    </tr>\n",
       "    <tr>\n",
       "      <th>7</th>\n",
       "      <td></td>\n",
       "      <td>2022-06-16 18:01:47</td>\n",
       "      <td>0.131 sec</td>\n",
       "      <td>35.0</td>\n",
       "      <td>2.841521</td>\n",
       "      <td>2.145108</td>\n",
       "      <td>8.074239</td>\n",
       "      <td>5.662063</td>\n",
       "      <td>3.525752</td>\n",
       "      <td>32.058953</td>\n",
       "    </tr>\n",
       "    <tr>\n",
       "      <th>8</th>\n",
       "      <td></td>\n",
       "      <td>2022-06-16 18:01:47</td>\n",
       "      <td>0.144 sec</td>\n",
       "      <td>40.0</td>\n",
       "      <td>2.660629</td>\n",
       "      <td>2.064583</td>\n",
       "      <td>7.078945</td>\n",
       "      <td>5.643049</td>\n",
       "      <td>3.474611</td>\n",
       "      <td>31.844007</td>\n",
       "    </tr>\n",
       "    <tr>\n",
       "      <th>9</th>\n",
       "      <td></td>\n",
       "      <td>2022-06-16 18:01:47</td>\n",
       "      <td>0.155 sec</td>\n",
       "      <td>45.0</td>\n",
       "      <td>2.490869</td>\n",
       "      <td>1.967912</td>\n",
       "      <td>6.204429</td>\n",
       "      <td>5.604445</td>\n",
       "      <td>3.452010</td>\n",
       "      <td>31.409799</td>\n",
       "    </tr>\n",
       "    <tr>\n",
       "      <th>10</th>\n",
       "      <td></td>\n",
       "      <td>2022-06-16 18:01:47</td>\n",
       "      <td>0.168 sec</td>\n",
       "      <td>50.0</td>\n",
       "      <td>2.351129</td>\n",
       "      <td>1.875922</td>\n",
       "      <td>5.527810</td>\n",
       "      <td>5.610970</td>\n",
       "      <td>3.476691</td>\n",
       "      <td>31.482983</td>\n",
       "    </tr>\n",
       "  </tbody>\n",
       "</table>\n",
       "</div>"
      ],
      "text/plain": [
       "                timestamp    duration  number_of_trees  training_rmse  \\\n",
       "0     2022-06-16 18:01:47   0.001 sec              0.0      12.861098   \n",
       "1     2022-06-16 18:01:47   0.040 sec              5.0      10.483603   \n",
       "2     2022-06-16 18:01:47   0.071 sec             10.0       6.651597   \n",
       "3     2022-06-16 18:01:47   0.081 sec             15.0       5.629196   \n",
       "4     2022-06-16 18:01:47   0.092 sec             20.0       4.526209   \n",
       "5     2022-06-16 18:01:47   0.105 sec             25.0       3.399759   \n",
       "6     2022-06-16 18:01:47   0.113 sec             30.0       3.256122   \n",
       "7     2022-06-16 18:01:47   0.131 sec             35.0       2.841521   \n",
       "8     2022-06-16 18:01:47   0.144 sec             40.0       2.660629   \n",
       "9     2022-06-16 18:01:47   0.155 sec             45.0       2.490869   \n",
       "10    2022-06-16 18:01:47   0.168 sec             50.0       2.351129   \n",
       "\n",
       "    training_mae  training_deviance  validation_rmse  validation_mae  \\\n",
       "0       4.456193         165.407841        13.473543        5.027507   \n",
       "1       3.989578         109.905924        11.245572        4.606858   \n",
       "2       3.183198          44.243736         7.875760        4.010445   \n",
       "3       2.966036          31.687848         7.103944        3.852135   \n",
       "4       2.714230          20.486571         6.392194        3.718066   \n",
       "5       2.366124          11.558360         5.860944        3.616747   \n",
       "6       2.320106          10.602333         5.763897        3.560829   \n",
       "7       2.145108           8.074239         5.662063        3.525752   \n",
       "8       2.064583           7.078945         5.643049        3.474611   \n",
       "9       1.967912           6.204429         5.604445        3.452010   \n",
       "10      1.875922           5.527810         5.610970        3.476691   \n",
       "\n",
       "    validation_deviance  \n",
       "0            181.536355  \n",
       "1            126.462889  \n",
       "2             62.027590  \n",
       "3             50.466021  \n",
       "4             40.860145  \n",
       "5             34.350665  \n",
       "6             33.222503  \n",
       "7             32.058953  \n",
       "8             31.844007  \n",
       "9             31.409799  \n",
       "10            31.482983  "
      ]
     },
     "metadata": {},
     "output_type": "display_data"
    },
    {
     "name": "stdout",
     "output_type": "stream",
     "text": [
      "\n",
      "Variable Importances: \n"
     ]
    },
    {
     "data": {
      "text/html": [
       "<div>\n",
       "<style scoped>\n",
       "    .dataframe tbody tr th:only-of-type {\n",
       "        vertical-align: middle;\n",
       "    }\n",
       "\n",
       "    .dataframe tbody tr th {\n",
       "        vertical-align: top;\n",
       "    }\n",
       "\n",
       "    .dataframe thead th {\n",
       "        text-align: right;\n",
       "    }\n",
       "</style>\n",
       "<table border=\"1\" class=\"dataframe\">\n",
       "  <thead>\n",
       "    <tr style=\"text-align: right;\">\n",
       "      <th></th>\n",
       "      <th>variable</th>\n",
       "      <th>relative_importance</th>\n",
       "      <th>scaled_importance</th>\n",
       "      <th>percentage</th>\n",
       "    </tr>\n",
       "  </thead>\n",
       "  <tbody>\n",
       "    <tr>\n",
       "      <th>0</th>\n",
       "      <td>time</td>\n",
       "      <td>208364.640625</td>\n",
       "      <td>1.000000</td>\n",
       "      <td>0.985366</td>\n",
       "    </tr>\n",
       "    <tr>\n",
       "      <th>1</th>\n",
       "      <td>user_count</td>\n",
       "      <td>3094.385986</td>\n",
       "      <td>0.014851</td>\n",
       "      <td>0.014634</td>\n",
       "    </tr>\n",
       "  </tbody>\n",
       "</table>\n",
       "</div>"
      ],
      "text/plain": [
       "     variable  relative_importance  scaled_importance  percentage\n",
       "0        time        208364.640625           1.000000    0.985366\n",
       "1  user_count          3094.385986           0.014851    0.014634"
      ]
     },
     "metadata": {},
     "output_type": "display_data"
    },
    {
     "data": {
      "text/plain": []
     },
     "execution_count": 11,
     "metadata": {},
     "output_type": "execute_result"
    }
   ],
   "source": [
    "aml.train(x = x, y = y, training_frame = dataset_train, validation_frame=dataset_valid)"
   ]
  },
  {
   "cell_type": "code",
   "execution_count": 12,
   "id": "130e36e1",
   "metadata": {},
   "outputs": [],
   "source": [
    "lb = aml.leaderboard"
   ]
  },
  {
   "cell_type": "code",
   "execution_count": 13,
   "id": "722a09e8",
   "metadata": {},
   "outputs": [
    {
     "data": {
      "text/html": [
       "<table>\n",
       "<thead>\n",
       "<tr><th>model_id                                   </th><th style=\"text-align: right;\">  mean_residual_deviance</th><th style=\"text-align: right;\">    rmse</th><th style=\"text-align: right;\">     mse</th><th style=\"text-align: right;\">    mae</th><th style=\"text-align: right;\">   rmsle</th></tr>\n",
       "</thead>\n",
       "<tbody>\n",
       "<tr><td>GBM_5_AutoML_1_20220616_180140             </td><td style=\"text-align: right;\">                 31.483 </td><td style=\"text-align: right;\"> 5.61097</td><td style=\"text-align: right;\"> 31.483 </td><td style=\"text-align: right;\">3.47669</td><td style=\"text-align: right;\">0.164092</td></tr>\n",
       "<tr><td>XRT_1_AutoML_1_20220616_180140             </td><td style=\"text-align: right;\">                 31.6885</td><td style=\"text-align: right;\"> 5.62926</td><td style=\"text-align: right;\"> 31.6885</td><td style=\"text-align: right;\">3.34895</td><td style=\"text-align: right;\">0.362724</td></tr>\n",
       "<tr><td>DRF_1_AutoML_1_20220616_180140             </td><td style=\"text-align: right;\">                 51.3721</td><td style=\"text-align: right;\"> 7.16743</td><td style=\"text-align: right;\"> 51.3721</td><td style=\"text-align: right;\">3.92743</td><td style=\"text-align: right;\">0.443562</td></tr>\n",
       "<tr><td>GBM_2_AutoML_1_20220616_180140             </td><td style=\"text-align: right;\">                132.342 </td><td style=\"text-align: right;\">11.504  </td><td style=\"text-align: right;\">132.342 </td><td style=\"text-align: right;\">5.15938</td><td style=\"text-align: right;\">0.516071</td></tr>\n",
       "<tr><td>GBM_4_AutoML_1_20220616_180140             </td><td style=\"text-align: right;\">                133.232 </td><td style=\"text-align: right;\">11.5426 </td><td style=\"text-align: right;\">133.232 </td><td style=\"text-align: right;\">5.18115</td><td style=\"text-align: right;\">0.514775</td></tr>\n",
       "<tr><td>GBM_3_AutoML_1_20220616_180140             </td><td style=\"text-align: right;\">                133.375 </td><td style=\"text-align: right;\">11.5488 </td><td style=\"text-align: right;\">133.375 </td><td style=\"text-align: right;\">5.21229</td><td style=\"text-align: right;\">0.512341</td></tr>\n",
       "<tr><td>GBM_grid_1_AutoML_1_20220616_180140_model_1</td><td style=\"text-align: right;\">                165.115 </td><td style=\"text-align: right;\">12.8497 </td><td style=\"text-align: right;\">165.115 </td><td style=\"text-align: right;\">5.32759</td><td style=\"text-align: right;\">0.550658</td></tr>\n",
       "<tr><td>DeepLearning_1_AutoML_1_20220616_180140    </td><td style=\"text-align: right;\">                166.202 </td><td style=\"text-align: right;\">12.8919 </td><td style=\"text-align: right;\">166.202 </td><td style=\"text-align: right;\">4.88353</td><td style=\"text-align: right;\">0.553695</td></tr>\n",
       "<tr><td>GLM_1_AutoML_1_20220616_180140             </td><td style=\"text-align: right;\">                174.982 </td><td style=\"text-align: right;\">13.2281 </td><td style=\"text-align: right;\">174.982 </td><td style=\"text-align: right;\">5.48602</td><td style=\"text-align: right;\">0.556496</td></tr>\n",
       "<tr><td>GBM_1_AutoML_1_20220616_180140             </td><td style=\"text-align: right;\">                176.307 </td><td style=\"text-align: right;\">13.2781 </td><td style=\"text-align: right;\">176.307 </td><td style=\"text-align: right;\">5.26891</td><td style=\"text-align: right;\">0.557821</td></tr>\n",
       "</tbody>\n",
       "</table>"
      ]
     },
     "metadata": {},
     "output_type": "display_data"
    },
    {
     "data": {
      "text/plain": []
     },
     "execution_count": 13,
     "metadata": {},
     "output_type": "execute_result"
    }
   ],
   "source": [
    "lb"
   ]
  },
  {
   "cell_type": "code",
   "execution_count": 14,
   "id": "8a03b965",
   "metadata": {},
   "outputs": [
    {
     "name": "stdout",
     "output_type": "stream",
     "text": [
      "gbm prediction progress: |███████████████████████████████████████████████████████| (done) 100%\n"
     ]
    }
   ],
   "source": [
    "dataset_pred=aml.leader.predict(dataset_test)"
   ]
  },
  {
   "cell_type": "code",
   "execution_count": 15,
   "id": "9aa82763",
   "metadata": {},
   "outputs": [
    {
     "data": {
      "text/html": [
       "<table>\n",
       "<thead>\n",
       "<tr><th style=\"text-align: right;\">  predict</th></tr>\n",
       "</thead>\n",
       "<tbody>\n",
       "<tr><td style=\"text-align: right;\">  97.5628</td></tr>\n",
       "<tr><td style=\"text-align: right;\">  97.9598</td></tr>\n",
       "<tr><td style=\"text-align: right;\">  99.1502</td></tr>\n",
       "<tr><td style=\"text-align: right;\">  99.2865</td></tr>\n",
       "<tr><td style=\"text-align: right;\">  97.8604</td></tr>\n",
       "<tr><td style=\"text-align: right;\">  98.3871</td></tr>\n",
       "<tr><td style=\"text-align: right;\">  98.7845</td></tr>\n",
       "<tr><td style=\"text-align: right;\">  98.7845</td></tr>\n",
       "<tr><td style=\"text-align: right;\">  98.4907</td></tr>\n",
       "<tr><td style=\"text-align: right;\">  98.4907</td></tr>\n",
       "</tbody>\n",
       "</table>"
      ]
     },
     "metadata": {},
     "output_type": "display_data"
    },
    {
     "data": {
      "text/plain": []
     },
     "execution_count": 15,
     "metadata": {},
     "output_type": "execute_result"
    }
   ],
   "source": [
    "dataset_pred.head()"
   ]
  },
  {
   "cell_type": "code",
   "execution_count": 16,
   "id": "953e6a1c",
   "metadata": {},
   "outputs": [
    {
     "name": "stdout",
     "output_type": "stream",
     "text": [
      "\n",
      "ModelMetricsRegression: gbm\n",
      "** Reported on test data. **\n",
      "\n",
      "MSE: 12.47090824091593\n",
      "RMSE: 3.5314173133341136\n",
      "MAE: 2.9397851528244505\n",
      "RMSLE: 0.17119133690283944\n",
      "Mean Residual Deviance: 12.47090824091593\n"
     ]
    },
    {
     "data": {
      "text/plain": []
     },
     "execution_count": 16,
     "metadata": {},
     "output_type": "execute_result"
    }
   ],
   "source": [
    "aml.leader.model_performance(dataset_test)"
   ]
  },
  {
   "cell_type": "code",
   "execution_count": 17,
   "id": "43685c02",
   "metadata": {},
   "outputs": [
    {
     "name": "stdout",
     "output_type": "stream",
     "text": [
      "\n",
      "ModelMetricsRegression: gbm\n",
      "** Reported on test data. **\n",
      "\n",
      "MSE: 12.47090824091593\n",
      "RMSE: 3.5314173133341136\n",
      "MAE: 2.9397851528244505\n",
      "RMSLE: 0.17119133690283944\n",
      "Mean Residual Deviance: 12.47090824091593\n"
     ]
    },
    {
     "data": {
      "text/plain": []
     },
     "execution_count": 17,
     "metadata": {},
     "output_type": "execute_result"
    }
   ],
   "source": [
    "perf = aml.leader.model_performance(dataset_test)\n",
    "perf"
   ]
  },
  {
   "cell_type": "code",
   "execution_count": null,
   "id": "d0dbb4cf",
   "metadata": {},
   "outputs": [],
   "source": []
  },
  {
   "cell_type": "code",
   "execution_count": null,
   "id": "16f1f439",
   "metadata": {},
   "outputs": [],
   "source": []
  }
 ],
 "metadata": {
  "kernelspec": {
   "display_name": "Python 3",
   "language": "python",
   "name": "python3"
  },
  "language_info": {
   "codemirror_mode": {
    "name": "ipython",
    "version": 3
   },
   "file_extension": ".py",
   "mimetype": "text/x-python",
   "name": "python",
   "nbconvert_exporter": "python",
   "pygments_lexer": "ipython3",
   "version": "3.8.8"
  }
 },
 "nbformat": 4,
 "nbformat_minor": 5
}
