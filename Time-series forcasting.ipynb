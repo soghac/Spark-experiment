{
 "cells": [
  {
   "cell_type": "code",
   "execution_count": 1,
   "metadata": {},
   "outputs": [],
   "source": [
    "import pandas_datareader.data as web\n",
    "import datetime\n",
    "import pandas as pd\n",
    "import datetime"
   ]
  },
  {
   "cell_type": "code",
   "execution_count": 2,
   "metadata": {},
   "outputs": [
    {
     "name": "stdout",
     "output_type": "stream",
     "text": [
      "   user_count size of data     time  cpu_percent_1 worker per core\n",
      "0           5       147 MB  8:16:01                         99.225\n",
      "1           5       147 MB  8:16:53                         99.175\n",
      "2           5       147 MB  8:17:06                        100.195\n",
      "3           5       147 MB  8:17:19                        101.335\n",
      "4           5       147 MB  8:17:32                         99.175\n",
      "\n",
      " Data Types:\n",
      "user_count                         int64\n",
      "size of data                      object\n",
      "time                              object\n",
      "cpu_percent_1 worker per core    float64\n",
      "dtype: object\n"
     ]
    }
   ],
   "source": [
    "# importing required libraries\n",
    "import pandas as pd\n",
    "import numpy as np\n",
    "\n",
    "# Now, we will load the data set and look at some initial rows and data types of the columns:\n",
    "ts_data = pd.read_csv('C:\\\\Users\\\\Recherche\\\\Desktop\\\\Average.csv')\n",
    "print (ts_data.head())\n",
    "print ('\\n Data Types:')\n",
    "print (ts_data.dtypes)\n"
   ]
  },
  {
   "cell_type": "code",
   "execution_count": 17,
   "metadata": {},
   "outputs": [
    {
     "data": {
      "text/html": [
       "<div>\n",
       "<style scoped>\n",
       "    .dataframe tbody tr th:only-of-type {\n",
       "        vertical-align: middle;\n",
       "    }\n",
       "\n",
       "    .dataframe tbody tr th {\n",
       "        vertical-align: top;\n",
       "    }\n",
       "\n",
       "    .dataframe thead th {\n",
       "        text-align: right;\n",
       "    }\n",
       "</style>\n",
       "<table border=\"1\" class=\"dataframe\">\n",
       "  <thead>\n",
       "    <tr style=\"text-align: right;\">\n",
       "      <th></th>\n",
       "      <th>user_count</th>\n",
       "      <th>size of data</th>\n",
       "      <th>cpu_percent_1 worker per core</th>\n",
       "    </tr>\n",
       "    <tr>\n",
       "      <th>time</th>\n",
       "      <th></th>\n",
       "      <th></th>\n",
       "      <th></th>\n",
       "    </tr>\n",
       "  </thead>\n",
       "  <tbody>\n",
       "    <tr>\n",
       "      <th>2022-06-16 08:16:01</th>\n",
       "      <td>5</td>\n",
       "      <td>147 MB</td>\n",
       "      <td>99.225</td>\n",
       "    </tr>\n",
       "    <tr>\n",
       "      <th>2022-06-16 08:16:53</th>\n",
       "      <td>5</td>\n",
       "      <td>147 MB</td>\n",
       "      <td>99.175</td>\n",
       "    </tr>\n",
       "    <tr>\n",
       "      <th>2022-06-16 08:17:06</th>\n",
       "      <td>5</td>\n",
       "      <td>147 MB</td>\n",
       "      <td>100.195</td>\n",
       "    </tr>\n",
       "    <tr>\n",
       "      <th>2022-06-16 08:17:19</th>\n",
       "      <td>5</td>\n",
       "      <td>147 MB</td>\n",
       "      <td>101.335</td>\n",
       "    </tr>\n",
       "    <tr>\n",
       "      <th>2022-06-16 08:17:32</th>\n",
       "      <td>5</td>\n",
       "      <td>147 MB</td>\n",
       "      <td>99.175</td>\n",
       "    </tr>\n",
       "  </tbody>\n",
       "</table>\n",
       "</div>"
      ],
      "text/plain": [
       "                     user_count size of data  cpu_percent_1 worker per core\n",
       "time                                                                       \n",
       "2022-06-16 08:16:01           5       147 MB                         99.225\n",
       "2022-06-16 08:16:53           5       147 MB                         99.175\n",
       "2022-06-16 08:17:06           5       147 MB                        100.195\n",
       "2022-06-16 08:17:19           5       147 MB                        101.335\n",
       "2022-06-16 08:17:32           5       147 MB                         99.175"
      ]
     },
     "execution_count": 17,
     "metadata": {},
     "output_type": "execute_result"
    }
   ],
   "source": [
    "ts_data.head()"
   ]
  },
  {
   "cell_type": "code",
   "execution_count": 18,
   "metadata": {},
   "outputs": [],
   "source": [
    "ts_data = pd.read_csv('C:\\\\Users\\\\Recherche\\\\Desktop\\\\Average.csv',index_col='time',parse_dates=True)"
   ]
  },
  {
   "cell_type": "code",
   "execution_count": 19,
   "metadata": {},
   "outputs": [
    {
     "data": {
      "text/html": [
       "<div>\n",
       "<style scoped>\n",
       "    .dataframe tbody tr th:only-of-type {\n",
       "        vertical-align: middle;\n",
       "    }\n",
       "\n",
       "    .dataframe tbody tr th {\n",
       "        vertical-align: top;\n",
       "    }\n",
       "\n",
       "    .dataframe thead th {\n",
       "        text-align: right;\n",
       "    }\n",
       "</style>\n",
       "<table border=\"1\" class=\"dataframe\">\n",
       "  <thead>\n",
       "    <tr style=\"text-align: right;\">\n",
       "      <th></th>\n",
       "      <th>user_count</th>\n",
       "      <th>size of data</th>\n",
       "      <th>cpu_percent_1 worker per core</th>\n",
       "    </tr>\n",
       "    <tr>\n",
       "      <th>time</th>\n",
       "      <th></th>\n",
       "      <th></th>\n",
       "      <th></th>\n",
       "    </tr>\n",
       "  </thead>\n",
       "  <tbody>\n",
       "    <tr>\n",
       "      <th>2022-06-16 08:16:01</th>\n",
       "      <td>5</td>\n",
       "      <td>147 MB</td>\n",
       "      <td>99.225</td>\n",
       "    </tr>\n",
       "    <tr>\n",
       "      <th>2022-06-16 08:16:53</th>\n",
       "      <td>5</td>\n",
       "      <td>147 MB</td>\n",
       "      <td>99.175</td>\n",
       "    </tr>\n",
       "    <tr>\n",
       "      <th>2022-06-16 08:17:06</th>\n",
       "      <td>5</td>\n",
       "      <td>147 MB</td>\n",
       "      <td>100.195</td>\n",
       "    </tr>\n",
       "    <tr>\n",
       "      <th>2022-06-16 08:17:19</th>\n",
       "      <td>5</td>\n",
       "      <td>147 MB</td>\n",
       "      <td>101.335</td>\n",
       "    </tr>\n",
       "    <tr>\n",
       "      <th>2022-06-16 08:17:32</th>\n",
       "      <td>5</td>\n",
       "      <td>147 MB</td>\n",
       "      <td>99.175</td>\n",
       "    </tr>\n",
       "  </tbody>\n",
       "</table>\n",
       "</div>"
      ],
      "text/plain": [
       "                     user_count size of data  cpu_percent_1 worker per core\n",
       "time                                                                       \n",
       "2022-06-16 08:16:01           5       147 MB                         99.225\n",
       "2022-06-16 08:16:53           5       147 MB                         99.175\n",
       "2022-06-16 08:17:06           5       147 MB                        100.195\n",
       "2022-06-16 08:17:19           5       147 MB                        101.335\n",
       "2022-06-16 08:17:32           5       147 MB                         99.175"
      ]
     },
     "execution_count": 19,
     "metadata": {},
     "output_type": "execute_result"
    }
   ],
   "source": [
    "ts_data.head()"
   ]
  },
  {
   "cell_type": "code",
   "execution_count": 21,
   "metadata": {},
   "outputs": [
    {
     "data": {
      "text/plain": [
       "DatetimeIndex(['2022-06-16 08:16:01', '2022-06-16 08:16:53',\n",
       "               '2022-06-16 08:17:06', '2022-06-16 08:17:19',\n",
       "               '2022-06-16 08:17:32', '2022-06-16 08:17:45',\n",
       "               '2022-06-16 08:17:58', '2022-06-16 08:18:11',\n",
       "               '2022-06-16 08:18:37', '2022-06-16 08:18:50',\n",
       "               ...\n",
       "               '2022-06-16 09:33:14', '2022-06-16 09:33:27',\n",
       "               '2022-06-16 09:33:40', '2022-06-16 09:33:53',\n",
       "               '2022-06-16 09:34:06', '2022-06-16 09:34:19',\n",
       "               '2022-06-16 09:34:32', '2022-06-16 09:34:45',\n",
       "               '2022-06-16 09:34:58', '2022-06-16 09:35:11'],\n",
       "              dtype='datetime64[ns]', name='time', length=361, freq=None)"
      ]
     },
     "execution_count": 21,
     "metadata": {},
     "output_type": "execute_result"
    }
   ],
   "source": [
    "# To show that dates are already parsed\n",
    "ts_data.index"
   ]
  },
  {
   "cell_type": "code",
   "execution_count": 22,
   "metadata": {},
   "outputs": [
    {
     "data": {
      "image/png": "[encoded data removed]",
      "text/plain": [
       "<Figure size 432x288 with 1 Axes>"
      ]
     },
     "metadata": {
      "needs_background": "light"
     },
     "output_type": "display_data"
    }
   ],
   "source": [
    "ts_data.plot();"
   ]
  },
  {
   "cell_type": "code",
   "execution_count": 28,
   "metadata": {},
   "outputs": [],
   "source": [
    "train_data = ts_data.iloc[:300] # Goes up to but not including 108\n",
    "test_data = ts_data.iloc[300:]"
   ]
  },
  {
   "cell_type": "code",
   "execution_count": 29,
   "metadata": {},
   "outputs": [],
   "source": [
    "from statsmodels.tsa.holtwinters import ExponentialSmoothing\n",
    "\n",
    "fitted_model = ExponentialSmoothing(train_data['cpu_percent_1 worker per core'],trend='mul',seasonal='mul',seasonal_periods=12).fit()"
   ]
  },
  {
   "cell_type": "code",
   "execution_count": 30,
   "metadata": {},
   "outputs": [],
   "source": [
    "test_predictions = fitted_model.forecast(36).rename('HW Forecast')"
   ]
  },
  {
   "cell_type": "code",
   "execution_count": 31,
   "metadata": {},
   "outputs": [
    {
     "data": {
      "text/plain": [
       "300    98.253036\n",
       "301    98.199858\n",
       "302    98.148432\n",
       "303    97.928728\n",
       "304    96.909681\n",
       "305    98.105960\n",
       "306    97.708438\n",
       "307    97.349490\n",
       "308    98.155038\n",
       "309    98.167962\n",
       "310    97.642574\n",
       "311    99.260888\n",
       "312    98.218160\n",
       "313    98.165001\n",
       "314    98.113593\n",
       "315    97.893967\n",
       "316    96.875282\n",
       "317    98.071136\n",
       "318    97.673755\n",
       "319    97.314934\n",
       "320    98.120197\n",
       "321    98.133116\n",
       "322    97.607914\n",
       "323    99.225654\n",
       "324    98.183296\n",
       "325    98.130156\n",
       "326    98.078766\n",
       "327    97.859219\n",
       "328    96.840895\n",
       "329    98.036324\n",
       "330    97.639085\n",
       "331    97.280391\n",
       "332    98.085368\n",
       "333    98.098283\n",
       "334    97.573267\n",
       "335    99.190433\n",
       "Name: HW Forecast, dtype: float64"
      ]
     },
     "execution_count": 31,
     "metadata": {},
     "output_type": "execute_result"
    }
   ],
   "source": [
    "test_predictions"
   ]
  },
  {
   "cell_type": "code",
   "execution_count": 32,
   "metadata": {},
   "outputs": [
    {
     "data": {
      "image/png": "[encoded data removed]",
      "text/plain": [
       "<Figure size 864x576 with 1 Axes>"
      ]
     },
     "metadata": {
      "needs_background": "light"
     },
     "output_type": "display_data"
    }
   ],
   "source": [
    "train_data['cpu_percent_1 worker per core'].plot(legend=True,label='TRAIN')\n",
    "test_data['cpu_percent_1 worker per core'].plot(legend=True,label='TEST',figsize=(12,8));"
   ]
  },
  {
   "cell_type": "code",
   "execution_count": 36,
   "metadata": {},
   "outputs": [],
   "source": [
    "from sklearn.metrics import mean_squared_error,mean_absolute_error"
   ]
  },
  {
   "cell_type": "code",
   "execution_count": 39,
   "metadata": {},
   "outputs": [
    {
     "data": {
      "text/html": [
       "<div>\n",
       "<style scoped>\n",
       "    .dataframe tbody tr th:only-of-type {\n",
       "        vertical-align: middle;\n",
       "    }\n",
       "\n",
       "    .dataframe tbody tr th {\n",
       "        vertical-align: top;\n",
       "    }\n",
       "\n",
       "    .dataframe thead th {\n",
       "        text-align: right;\n",
       "    }\n",
       "</style>\n",
       "<table border=\"1\" class=\"dataframe\">\n",
       "  <thead>\n",
       "    <tr style=\"text-align: right;\">\n",
       "      <th></th>\n",
       "      <th>user_count</th>\n",
       "      <th>cpu_percent_1 worker per core</th>\n",
       "    </tr>\n",
       "  </thead>\n",
       "  <tbody>\n",
       "    <tr>\n",
       "      <th>count</th>\n",
       "      <td>61.0</td>\n",
       "      <td>61.000000</td>\n",
       "    </tr>\n",
       "    <tr>\n",
       "      <th>mean</th>\n",
       "      <td>20.0</td>\n",
       "      <td>88.484344</td>\n",
       "    </tr>\n",
       "    <tr>\n",
       "      <th>std</th>\n",
       "      <td>0.0</td>\n",
       "      <td>29.639733</td>\n",
       "    </tr>\n",
       "    <tr>\n",
       "      <th>min</th>\n",
       "      <td>20.0</td>\n",
       "      <td>0.270000</td>\n",
       "    </tr>\n",
       "    <tr>\n",
       "      <th>25%</th>\n",
       "      <td>20.0</td>\n",
       "      <td>95.005000</td>\n",
       "    </tr>\n",
       "    <tr>\n",
       "      <th>50%</th>\n",
       "      <td>20.0</td>\n",
       "      <td>97.140000</td>\n",
       "    </tr>\n",
       "    <tr>\n",
       "      <th>75%</th>\n",
       "      <td>20.0</td>\n",
       "      <td>100.710000</td>\n",
       "    </tr>\n",
       "    <tr>\n",
       "      <th>max</th>\n",
       "      <td>20.0</td>\n",
       "      <td>116.915000</td>\n",
       "    </tr>\n",
       "  </tbody>\n",
       "</table>\n",
       "</div>"
      ],
      "text/plain": [
       "       user_count  cpu_percent_1 worker per core\n",
       "count        61.0                      61.000000\n",
       "mean         20.0                      88.484344\n",
       "std           0.0                      29.639733\n",
       "min          20.0                       0.270000\n",
       "25%          20.0                      95.005000\n",
       "50%          20.0                      97.140000\n",
       "75%          20.0                     100.710000\n",
       "max          20.0                     116.915000"
      ]
     },
     "execution_count": 39,
     "metadata": {},
     "output_type": "execute_result"
    }
   ],
   "source": [
    "test_data.describe()"
   ]
  },
  {
   "cell_type": "code",
   "execution_count": 41,
   "metadata": {},
   "outputs": [],
   "source": [
    "final_model = ExponentialSmoothing(ts_data['cpu_percent_1 worker per core'],trend='mul',seasonal='mul',seasonal_periods=12).fit()"
   ]
  },
  {
   "cell_type": "code",
   "execution_count": 42,
   "metadata": {},
   "outputs": [],
   "source": [
    "forecast_predictions = final_model.forecast(36)"
   ]
  },
  {
   "cell_type": "code",
   "execution_count": null,
   "metadata": {},
   "outputs": [],
   "source": []
  }
 ],
 "metadata": {
  "kernelspec": {
   "display_name": "Python 3",
   "language": "python",
   "name": "python3"
  },
  "language_info": {
   "codemirror_mode": {
    "name": "ipython",
    "version": 3
   },
   "file_extension": ".py",
   "mimetype": "text/x-python",
   "name": "python",
   "nbconvert_exporter": "python",
   "pygments_lexer": "ipython3",
   "version": "3.8.8"
  }
 },
 "nbformat": 4,
 "nbformat_minor": 2
}
